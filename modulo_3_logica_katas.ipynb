{
 "cells": [
  {
   "cell_type": "markdown",
   "metadata": {},
   "source": [
    "# Ejercicio 1"
   ]
  },
  {
   "cell_type": "code",
   "execution_count": 21,
   "metadata": {},
   "outputs": [
    {
     "name": "stdout",
     "output_type": "stream",
     "text": [
      "ADVERTENCIA: Un asteroide se acerca demasiado rápido\n"
     ]
    }
   ],
   "source": [
    "asteroide = 49\n",
    "if asteroide > 25:\n",
    "    print('ADVERTENCIA: Un asteroide se acerca demasiado rápido')\n",
    "else:\n",
    "    print('Nuestro planeta se encuentra seguro')"
   ]
  },
  {
   "cell_type": "code",
   "execution_count": 22,
   "metadata": {},
   "outputs": [
    {
     "name": "stdout",
     "output_type": "stream",
     "text": [
      "Nuestro planeta se encuentra seguro\n"
     ]
    }
   ],
   "source": [
    "asteroide = 5\n",
    "if asteroide > 25:\n",
    "    print('ADVERTENCIA: Un asteroide se acerca demasiado rápido')\n",
    "else:\n",
    "    print('Nuestro planeta se encuentra seguro')"
   ]
  },
  {
   "cell_type": "markdown",
   "metadata": {},
   "source": [
    "# Ejercicio 2"
   ]
  },
  {
   "cell_type": "code",
   "execution_count": 23,
   "metadata": {},
   "outputs": [
    {
     "name": "stdout",
     "output_type": "stream",
     "text": [
      "No se ha detectado actividad irregular en la atmósfera\n"
     ]
    }
   ],
   "source": [
    "asteroide = 19\n",
    "if asteroide > 20:\n",
    "    print ('Un asteroide entró a la atmósfera, miren esa luz en el cielo')\n",
    "elif asteroide == 20:\n",
    "    print ('Un asteroide entró a la atmósfera, miren esa luz en el cielo')\n",
    "else:\n",
    "    print ('No se ha detectado actividad irregular en la atmósfera')"
   ]
  },
  {
   "cell_type": "code",
   "execution_count": 24,
   "metadata": {},
   "outputs": [
    {
     "name": "stdout",
     "output_type": "stream",
     "text": [
      "Un asteroide entró a la atmósfera, miren esa luz en el cielo\n"
     ]
    }
   ],
   "source": [
    "asteroide = 35\n",
    "if asteroide > 20:\n",
    "    print ('Un asteroide entró a la atmósfera, miren esa luz en el cielo')\n",
    "elif asteroide == 20:\n",
    "    print ('Un asteroide entró a la atmósfera, miren esa luz en el cielo')\n",
    "else:\n",
    "    print ('No se ha detectado actividad irregular en la atmósfera')"
   ]
  },
  {
   "cell_type": "markdown",
   "metadata": {},
   "source": [
    "# Ejercicio 3"
   ]
  },
  {
   "cell_type": "code",
   "execution_count": 26,
   "metadata": {},
   "outputs": [
    {
     "name": "stdout",
     "output_type": "stream",
     "text": [
      "Un asteroide entró a la atmósfera, miren esa luz en el cielo\n"
     ]
    }
   ],
   "source": [
    "velocidad_asteroide = 25\n",
    "tamano_asteroide = 40\n",
    "if velocidad_asteroide > 25 and tamano_asteroide > 25:\n",
    "    print ( 'ADVERTENCIA: Un asteroide amenaza nuestra existencia')\n",
    "elif velocidad_asteroide >= 20:\n",
    "    print ('Un asteroide entró a la atmósfera, miren esa luz en el cielo')\n",
    "elif tamano_asteroide < 25:\n",
    "    print('No se ha detectado actividad irregular en la atmósfera')\n",
    "else:\n",
    "    print ('No se ha detectado actividad irregular en la atmósfera')"
   ]
  },
  {
   "cell_type": "code",
   "execution_count": 28,
   "metadata": {},
   "outputs": [
    {
     "name": "stdout",
     "output_type": "stream",
     "text": [
      "¡Alerta, Un asteroide muy peligroso viene hacia la Tierra!\n"
     ]
    }
   ],
   "source": [
    "velocidad_asteroide = 35\n",
    "tamano_asteroide = 35\n",
    "if velocidad_asteroide > 25 and tamano_asteroide > 25:\n",
    "    print ( '¡Alerta, Un asteroide muy peligroso viene hacia la Tierra!')\n",
    "elif velocidad_asteroide >= 20:\n",
    "    print ('Un asteroide entró a la atmósfera, miren esa luz en el cielo')\n",
    "elif tamano_asteroide < 25:\n",
    "    print('No se ha detectado actividad irregular en la atmósfera')\n",
    "else:\n",
    "    print ('No se ha detectado actividad irregular en la atmósfera')"
   ]
  },
  {
   "cell_type": "code",
   "execution_count": 29,
   "metadata": {},
   "outputs": [
    {
     "name": "stdout",
     "output_type": "stream",
     "text": [
      "No se ha detectado actividad irregular en la atmósfera\n"
     ]
    }
   ],
   "source": [
    "velocidad_asteroide = 19\n",
    "tamano_asteroide = 35\n",
    "if velocidad_asteroide > 25 and tamano_asteroide > 25:\n",
    "    print ( '¡Alerta, Un asteroide muy peligroso viene hacia la Tierra!')\n",
    "elif velocidad_asteroide >= 20:\n",
    "    print ('Un asteroide entró a la atmósfera, miren esa luz en el cielo')\n",
    "elif tamano_asteroide < 25:\n",
    "    print('No se ha detectado actividad irregular en la atmósfera')\n",
    "else:\n",
    "    print ('No se ha detectado actividad irregular en la atmósfera')"
   ]
  },
  {
   "cell_type": "code",
   "execution_count": null,
   "metadata": {},
   "outputs": [],
   "source": []
  }
 ],
 "metadata": {
  "interpreter": {
   "hash": "7e2b7f0b1c0830004cac429731b265e9ccccbe11d5478527f0178ee4d9ab290b"
  },
  "kernelspec": {
   "display_name": "Python 3.10.2 64-bit",
   "language": "python",
   "name": "python3"
  },
  "language_info": {
   "codemirror_mode": {
    "name": "ipython",
    "version": 3
   },
   "file_extension": ".py",
   "mimetype": "text/x-python",
   "name": "python",
   "nbconvert_exporter": "python",
   "pygments_lexer": "ipython3",
   "version": "3.10.2"
  },
  "orig_nbformat": 4
 },
 "nbformat": 4,
 "nbformat_minor": 2
}
